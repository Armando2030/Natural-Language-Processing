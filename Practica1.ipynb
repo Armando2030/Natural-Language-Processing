{
 "cells": [
  {
   "cell_type": "code",
   "execution_count": 11,
   "metadata": {},
   "outputs": [],
   "source": [
    "import pandas as pd\n",
    "import re\n",
    "from collections import Counter"
   ]
  },
  {
   "cell_type": "code",
   "execution_count": 12,
   "metadata": {},
   "outputs": [],
   "source": [
    "df = pd.read_csv('tweets.csv')"
   ]
  },
  {
   "cell_type": "code",
   "execution_count": 13,
   "metadata": {},
   "outputs": [],
   "source": [
    "def hashtags(text):\n",
    "    hashtags = re.findall(r'#\\w+', text)\n",
    "    return hashtags if hashtags else None\n",
    "\n",
    "\n",
    "def menciones(text):\n",
    "    menciones = re.findall(r'@\\w+', text)\n",
    "    return menciones if menciones else None\n",
    "\n",
    "\n",
    "def URL(text):\n",
    "    urls = re.findall(r'https?://\\S+', text)\n",
    "    return urls if urls else None\n"
   ]
  },
  {
   "cell_type": "code",
   "execution_count": 15,
   "metadata": {},
   "outputs": [],
   "source": [
    "listaMenciones = df['text'].apply(menciones).dropna().sum()"
   ]
  },
  {
   "cell_type": "code",
   "execution_count": 17,
   "metadata": {},
   "outputs": [],
   "source": [
    "listaURLS = df['text'].apply(URL).dropna().sum()"
   ]
  },
  {
   "cell_type": "code",
   "execution_count": 22,
   "metadata": {},
   "outputs": [],
   "source": [
    "df['hashtags'], df['mentions'] = df['text'].apply(hashtags), df['text'].apply(menciones)\n",
    "totalHashtags, totalMenciones = Counter(listaHashtags), Counter(listaMenciones)\n",
    "topHashtags, topMenciones = totalHashtags.most_common(10), totalMenciones.most_common(10)\n",
    "totalURls = Counter(listaURLS)\n",
    "\n",
    "dfHashtags = pd.DataFrame({\n",
    "    'String': ['Hashtags'],\n",
    "    'Frecuencia': [sum(totalHashtags.values())],\n",
    "    'Top 10': [', '.join([f'{hashtag}: {frecuencia}' for hashtag, frecuencia in topHashtags])]\n",
    "})\n",
    "\n",
    "dfUsuarios = pd.DataFrame({\n",
    "    'String' : ['Usuarios'],\n",
    "    'Frecuencia' : [sum(totalMenciones.values())],\n",
    "    'Top 10' : [', '.join([f'{usuarios}: {frecuencia}' for usuarios, frecuencia in topMenciones])]\n",
    "})\n",
    "\n",
    "dfURL = pd.DataFrame({\n",
    "    'String' : ['URLs'],\n",
    "    'Frecuencia' : [sum(totalURls.values())],\n",
    "    'Top 10' : None\n",
    "})"
   ]
  },
  {
   "cell_type": "code",
   "execution_count": 23,
   "metadata": {},
   "outputs": [
    {
     "data": {
      "text/html": [
       "<div>\n",
       "<style scoped>\n",
       "    .dataframe tbody tr th:only-of-type {\n",
       "        vertical-align: middle;\n",
       "    }\n",
       "\n",
       "    .dataframe tbody tr th {\n",
       "        vertical-align: top;\n",
       "    }\n",
       "\n",
       "    .dataframe thead th {\n",
       "        text-align: right;\n",
       "    }\n",
       "</style>\n",
       "<table border=\"1\" class=\"dataframe\">\n",
       "  <thead>\n",
       "    <tr style=\"text-align: right;\">\n",
       "      <th></th>\n",
       "      <th>String</th>\n",
       "      <th>Frecuencia</th>\n",
       "      <th>Top 10</th>\n",
       "    </tr>\n",
       "  </thead>\n",
       "  <tbody>\n",
       "    <tr>\n",
       "      <th>0</th>\n",
       "      <td>Hashtags</td>\n",
       "      <td>298</td>\n",
       "      <td>#UnidosTodosX: 26, #DeZurdaTeam: 26, #GranHerm...</td>\n",
       "    </tr>\n",
       "    <tr>\n",
       "      <th>0</th>\n",
       "      <td>Usuarios</td>\n",
       "      <td>194</td>\n",
       "      <td>@petrogustavo: 7, @DeZurdaTeam_: 6, @JMilei: 4...</td>\n",
       "    </tr>\n",
       "    <tr>\n",
       "      <th>0</th>\n",
       "      <td>URLs</td>\n",
       "      <td>8</td>\n",
       "      <td>None</td>\n",
       "    </tr>\n",
       "  </tbody>\n",
       "</table>\n",
       "</div>"
      ],
      "text/plain": [
       "     String  Frecuencia                                             Top 10\n",
       "0  Hashtags         298  #UnidosTodosX: 26, #DeZurdaTeam: 26, #GranHerm...\n",
       "0  Usuarios         194  @petrogustavo: 7, @DeZurdaTeam_: 6, @JMilei: 4...\n",
       "0      URLs           8                                               None"
      ]
     },
     "execution_count": 23,
     "metadata": {},
     "output_type": "execute_result"
    }
   ],
   "source": [
    "df_chido = pd.concat([dfHashtags, dfUsuarios, dfURL])\n",
    "df_chido"
   ]
  },
  {
   "cell_type": "code",
   "execution_count": null,
   "metadata": {},
   "outputs": [],
   "source": []
  }
 ],
 "metadata": {
  "kernelspec": {
   "display_name": "Python 3",
   "language": "python",
   "name": "python3"
  },
  "language_info": {
   "codemirror_mode": {
    "name": "ipython",
    "version": 3
   },
   "file_extension": ".py",
   "mimetype": "text/x-python",
   "name": "python",
   "nbconvert_exporter": "python",
   "pygments_lexer": "ipython3",
   "version": "3.12.3"
  }
 },
 "nbformat": 4,
 "nbformat_minor": 2
}
