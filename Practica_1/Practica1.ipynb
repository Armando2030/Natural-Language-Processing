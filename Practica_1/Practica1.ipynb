{
 "cells": [
  {
   "cell_type": "code",
   "execution_count": 1,
   "metadata": {},
   "outputs": [],
   "source": [
    "import pandas as pd\n",
    "import re\n",
    "import emoji\n",
    "from collections import Counter"
   ]
  },
  {
   "cell_type": "code",
   "execution_count": 2,
   "metadata": {},
   "outputs": [],
   "source": [
    "df = pd.read_csv('tweets.csv')"
   ]
  },
  {
   "cell_type": "code",
   "execution_count": 3,
   "metadata": {},
   "outputs": [],
   "source": [
    "def hashtags(text):\n",
    "    hashtags = re.findall(r'#\\w+', text)\n",
    "    return hashtags if hashtags else None\n",
    "\n",
    "\n",
    "def usuarios(text):\n",
    "    usuario = re.findall(r'@\\w+', text)\n",
    "    return usuario if usuario else None\n",
    "\n",
    "\n",
    "def URL(text):\n",
    "    urls = re.findall(r'https?://\\S+', text)\n",
    "    return urls if urls else None\n",
    "\n",
    "\n",
    "def Emoji(text):\n",
    "    return [char for char in text if char in emoji.EMOJI_DATA]\n",
    "\n",
    "\n",
    "def Emoticones(text):\n",
    "    emoticones = re.findall(r'(?::|;|=|X|x)(?:-)?(?:[3DPdpOoSs]|[()]{1,}|[d]{1,})', text)\n",
    "    return emoticones if emoticones else None\n",
    "\n",
    "\n",
    "def Horas(text):\n",
    "    horas = re.findall(r'\\b(?:[01]?\\d|2[0-3]):[0-5]\\d\\b', text)\n",
    "    return horas if horas else None"
   ]
  },
  {
   "cell_type": "code",
   "execution_count": 4,
   "metadata": {},
   "outputs": [],
   "source": [
    "listaUsuarios = df['text'].apply(usuarios).dropna().sum()\n",
    "listaHashtags = df['text'].apply(hashtags).dropna().sum()\n",
    "listaURLS = df['text'].apply(URL).dropna().sum()\n",
    "listaEmojis = df['text'].apply(Emoji).dropna().sum()\n",
    "listaEmoticones = df['text'].apply(Emoticones).dropna().sum()\n",
    "listaHoras = df['text'].apply(Horas).dropna().sum()"
   ]
  },
  {
   "cell_type": "code",
   "execution_count": 5,
   "metadata": {},
   "outputs": [
    {
     "data": {
      "text/html": [
       "<div>\n",
       "<style scoped>\n",
       "    .dataframe tbody tr th:only-of-type {\n",
       "        vertical-align: middle;\n",
       "    }\n",
       "\n",
       "    .dataframe tbody tr th {\n",
       "        vertical-align: top;\n",
       "    }\n",
       "\n",
       "    .dataframe thead th {\n",
       "        text-align: right;\n",
       "    }\n",
       "</style>\n",
       "<table border=\"1\" class=\"dataframe\">\n",
       "  <thead>\n",
       "    <tr style=\"text-align: right;\">\n",
       "      <th></th>\n",
       "      <th>String</th>\n",
       "      <th>Frecuecia</th>\n",
       "      <th>Top 10</th>\n",
       "    </tr>\n",
       "  </thead>\n",
       "  <tbody>\n",
       "    <tr>\n",
       "      <th>0</th>\n",
       "      <td>Hashtags</td>\n",
       "      <td>298</td>\n",
       "      <td>#UnidosTodosX : 26, #DeZurdaTeam : 26, #GranHe...</td>\n",
       "    </tr>\n",
       "    <tr>\n",
       "      <th>1</th>\n",
       "      <td>Usuarios</td>\n",
       "      <td>194</td>\n",
       "      <td>@petrogustavo : 7, @DeZurdaTeam_ : 6, @JMilei ...</td>\n",
       "    </tr>\n",
       "    <tr>\n",
       "      <th>2</th>\n",
       "      <td>URLs</td>\n",
       "      <td>8</td>\n",
       "      <td>https://www.eldiario.es/1_a4fa72?utm_campaign=...</td>\n",
       "    </tr>\n",
       "    <tr>\n",
       "      <th>3</th>\n",
       "      <td>Emojis</td>\n",
       "      <td>1161</td>\n",
       "      <td>😭 : 67, 🥺 : 54, ❤ : 51, 🏻 : 38, 🙏 : 36, ✨ : 34...</td>\n",
       "    </tr>\n",
       "    <tr>\n",
       "      <th>4</th>\n",
       "      <td>Emoticones</td>\n",
       "      <td>145</td>\n",
       "      <td>xp : 76, xd : 19, xo : 15, :3 : 8, xs : 6, :) ...</td>\n",
       "    </tr>\n",
       "    <tr>\n",
       "      <th>5</th>\n",
       "      <td>Horas</td>\n",
       "      <td>15</td>\n",
       "      <td>23:58 : 4, 17:45 : 3, 11:11 : 2, 3:00 : 2, 2:3...</td>\n",
       "    </tr>\n",
       "  </tbody>\n",
       "</table>\n",
       "</div>"
      ],
      "text/plain": [
       "       String  Frecuecia                                             Top 10\n",
       "0    Hashtags        298  #UnidosTodosX : 26, #DeZurdaTeam : 26, #GranHe...\n",
       "1    Usuarios        194  @petrogustavo : 7, @DeZurdaTeam_ : 6, @JMilei ...\n",
       "2        URLs          8  https://www.eldiario.es/1_a4fa72?utm_campaign=...\n",
       "3      Emojis       1161  😭 : 67, 🥺 : 54, ❤ : 51, 🏻 : 38, 🙏 : 36, ✨ : 34...\n",
       "4  Emoticones        145  xp : 76, xd : 19, xo : 15, :3 : 8, xs : 6, :) ...\n",
       "5       Horas         15  23:58 : 4, 17:45 : 3, 11:11 : 2, 3:00 : 2, 2:3..."
      ]
     },
     "execution_count": 5,
     "metadata": {},
     "output_type": "execute_result"
    }
   ],
   "source": [
    "totalHashtags, totalUsuarios, totalURls, totalEmojis, totalEmoticones, totalHoras = Counter(listaHashtags), Counter(listaUsuarios), Counter(listaURLS), Counter(listaEmojis), Counter(listaEmoticones), Counter(listaHoras)\n",
    "topHashtags, topUsuarios, topURLs, topEmojis, topEmoticones, topHoras = totalHashtags.most_common(10), totalUsuarios.most_common(10), totalURls.most_common(10), totalEmojis.most_common(10), totalEmoticones.most_common(10), totalHoras.most_common(10)\n",
    "\n",
    "resultados = []\n",
    "categorias = {\n",
    "    'Hashtags' : (totalHashtags, topHashtags),\n",
    "    'Usuarios' : (totalUsuarios, topUsuarios),\n",
    "    'URLs' : (totalURls, topURLs),\n",
    "    'Emojis' : (totalEmojis, topEmojis), \n",
    "    'Emoticones' : (totalEmoticones, topEmoticones), \n",
    "    'Horas' : (totalHoras,  topHoras)\n",
    "}\n",
    "\n",
    "for categoria, (totales, lostop) in categorias.items():\n",
    "    top10 = ', '.join([f'{item} : {freq}' for item, freq in lostop])\n",
    "    aux = pd.DataFrame({\n",
    "        'String' : [categoria],\n",
    "        'Frecuecia' : [sum(totales.values())],\n",
    "        'Top 10' : [top10]\n",
    "    })\n",
    "    resultados.append(aux)\n",
    "\n",
    "df_chido = pd.concat(resultados, ignore_index=True)\n",
    "df_chido"
   ]
  },
  {
   "cell_type": "code",
   "execution_count": 7,
   "metadata": {},
   "outputs": [
    {
     "data": {
      "text/plain": [
       "([('23:58', 4),\n",
       "  ('17:45', 3),\n",
       "  ('11:11', 2),\n",
       "  ('3:00', 2),\n",
       "  ('2:38', 1),\n",
       "  ('3:12', 1),\n",
       "  ('4:20', 1),\n",
       "  ('00:01', 1)],\n",
       " [('😭', 67),\n",
       "  ('🥺', 54),\n",
       "  ('❤', 51),\n",
       "  ('🏻', 38),\n",
       "  ('🙏', 36),\n",
       "  ('✨', 34),\n",
       "  ('🤣', 28),\n",
       "  ('😂', 25),\n",
       "  ('🏽', 22),\n",
       "  ('🏼', 21)],\n",
       " [('xp', 76),\n",
       "  ('xd', 19),\n",
       "  ('xo', 15),\n",
       "  (':3', 8),\n",
       "  ('xs', 6),\n",
       "  (':)', 4),\n",
       "  ('Xo', 3),\n",
       "  (':)))', 2),\n",
       "  (':(', 2),\n",
       "  ('xD', 2)])"
      ]
     },
     "execution_count": 7,
     "metadata": {},
     "output_type": "execute_result"
    }
   ],
   "source": [
    "topHoras, topEmojis, topEmoticones"
   ]
  },
  {
   "cell_type": "code",
   "execution_count": 9,
   "metadata": {},
   "outputs": [
    {
     "data": {
      "text/plain": [
       "([('#UnidosTodosX', 26),\n",
       "  ('#DeZurdaTeam', 26),\n",
       "  ('#GranHermano', 21),\n",
       "  ('#granhermano', 9),\n",
       "  ('#gelp', 7),\n",
       "  ('#OTDirecto5E', 4),\n",
       "  ('#gh23', 4),\n",
       "  ('#NadieComoTú', 3),\n",
       "  ('#MicroCuento', 3),\n",
       "  ('#Bailando2023', 3)],\n",
       " [('https://www.eldiario.es/1_a4fa72?utm_campaign=botonera-share&utm_medium=social&utm_source=twitter',\n",
       "   2),\n",
       "  ('https://elfaro.net/es/202312/columnas/27191/el-voto-de-la-frustracion-gano-el-tour-electoral-de-2023',\n",
       "   1),\n",
       "  ('https://www.youtube.com/watch?v=1QvBbg38UY8&ab_channel=ElMostrador', 1),\n",
       "  ('https://nitter.perennialte.ch/MaxKaiser75/status/1743261455326007754/video/1',\n",
       "   1),\n",
       "  ('https://signal.group/#CjQKIAL1PfYMtji-3OMw24eFifKyZSI9bNbHpdvfWONAMrnvEhAgxrDIgXSX8-35VZTa6H_n',\n",
       "   1),\n",
       "  ('https://t.me/tierrasant', 1),\n",
       "  ('https://twitter.com/MaxKaiser75/status/1743261455326007754/video/1', 1)])"
      ]
     },
     "execution_count": 9,
     "metadata": {},
     "output_type": "execute_result"
    }
   ],
   "source": [
    "topHashtags, topURLs"
   ]
  },
  {
   "cell_type": "code",
   "execution_count": 10,
   "metadata": {},
   "outputs": [
    {
     "data": {
      "text/plain": [
       "[('@petrogustavo', 7),\n",
       " ('@DeZurdaTeam_', 6),\n",
       " ('@JMilei', 4),\n",
       " ('@biobio', 3),\n",
       " ('@radiocarab', 3),\n",
       " ('@TTISantiago', 3),\n",
       " ('@mop_chile', 3),\n",
       " ('@mop_rm', 3),\n",
       " ('@MabelLaraNews', 2),\n",
       " ('@_somosmadrid', 2)]"
      ]
     },
     "execution_count": 10,
     "metadata": {},
     "output_type": "execute_result"
    }
   ],
   "source": [
    "topUsuarios"
   ]
  }
 ],
 "metadata": {
  "kernelspec": {
   "display_name": "Python 3",
   "language": "python",
   "name": "python3"
  },
  "language_info": {
   "codemirror_mode": {
    "name": "ipython",
    "version": 3
   },
   "file_extension": ".py",
   "mimetype": "text/x-python",
   "name": "python",
   "nbconvert_exporter": "python",
   "pygments_lexer": "ipython3",
   "version": "3.12.3"
  }
 },
 "nbformat": 4,
 "nbformat_minor": 2
}
