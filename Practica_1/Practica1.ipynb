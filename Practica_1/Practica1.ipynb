{
 "cells": [
  {
   "cell_type": "code",
   "execution_count": 1,
   "metadata": {},
   "outputs": [],
   "source": [
    "import pandas as pd\n",
    "import re\n",
    "import emoji\n",
    "from collections import Counter"
   ]
  },
  {
   "cell_type": "code",
   "execution_count": 2,
   "metadata": {},
   "outputs": [],
   "source": [
    "df = pd.read_csv('tweets.csv')"
   ]
  },
  {
   "cell_type": "code",
   "execution_count": 3,
   "metadata": {},
   "outputs": [],
   "source": [
    "def hashtags(text):\n",
    "    hashtags = re.findall(r'#\\w+', text)\n",
    "    return hashtags if hashtags else None\n",
    "\n",
    "\n",
    "def usuarios(text):\n",
    "    usuario = re.findall(r'@\\w+', text)\n",
    "    return usuario if usuario else None\n",
    "\n",
    "\n",
    "def URL(text):\n",
    "    urls = re.findall(r'https?://\\S+', text)\n",
    "    return urls if urls else None\n",
    "\n",
    "\n",
    "def Emoji(text):\n",
    "    return [char for char in text if char in emoji.EMOJI_DATA]"
   ]
  },
  {
   "cell_type": "code",
   "execution_count": 4,
   "metadata": {},
   "outputs": [],
   "source": [
    "listaUsuarios = df['text'].apply(usuarios).dropna().sum()\n",
    "listaHashtags = df['text'].apply(hashtags).dropna().sum()\n",
    "listaURLS = df['text'].apply(URL).dropna().sum()\n",
    "listaEmojis = df['text'].apply(Emoji).dropna().sum()"
   ]
  },
  {
   "cell_type": "code",
   "execution_count": 6,
   "metadata": {},
   "outputs": [
    {
     "data": {
      "text/html": [
       "<div>\n",
       "<style scoped>\n",
       "    .dataframe tbody tr th:only-of-type {\n",
       "        vertical-align: middle;\n",
       "    }\n",
       "\n",
       "    .dataframe tbody tr th {\n",
       "        vertical-align: top;\n",
       "    }\n",
       "\n",
       "    .dataframe thead th {\n",
       "        text-align: right;\n",
       "    }\n",
       "</style>\n",
       "<table border=\"1\" class=\"dataframe\">\n",
       "  <thead>\n",
       "    <tr style=\"text-align: right;\">\n",
       "      <th></th>\n",
       "      <th>String</th>\n",
       "      <th>Frecuecia</th>\n",
       "      <th>Top 10</th>\n",
       "    </tr>\n",
       "  </thead>\n",
       "  <tbody>\n",
       "    <tr>\n",
       "      <th>0</th>\n",
       "      <td>Hashtags</td>\n",
       "      <td>298</td>\n",
       "      <td>#UnidosTodosX : 26, #DeZurdaTeam : 26, #GranHe...</td>\n",
       "    </tr>\n",
       "    <tr>\n",
       "      <th>1</th>\n",
       "      <td>Usuarios</td>\n",
       "      <td>194</td>\n",
       "      <td>@petrogustavo : 7, @DeZurdaTeam_ : 6, @JMilei ...</td>\n",
       "    </tr>\n",
       "    <tr>\n",
       "      <th>2</th>\n",
       "      <td>URLs</td>\n",
       "      <td>8</td>\n",
       "      <td>https://www.eldiario.es/1_a4fa72?utm_campaign=...</td>\n",
       "    </tr>\n",
       "    <tr>\n",
       "      <th>3</th>\n",
       "      <td>Emojis</td>\n",
       "      <td>1161</td>\n",
       "      <td>😭 : 67, 🥺 : 54, ❤ : 51, 🏻 : 38, 🙏 : 36, ✨ : 34...</td>\n",
       "    </tr>\n",
       "  </tbody>\n",
       "</table>\n",
       "</div>"
      ],
      "text/plain": [
       "     String  Frecuecia                                             Top 10\n",
       "0  Hashtags        298  #UnidosTodosX : 26, #DeZurdaTeam : 26, #GranHe...\n",
       "1  Usuarios        194  @petrogustavo : 7, @DeZurdaTeam_ : 6, @JMilei ...\n",
       "2      URLs          8  https://www.eldiario.es/1_a4fa72?utm_campaign=...\n",
       "3    Emojis       1161  😭 : 67, 🥺 : 54, ❤ : 51, 🏻 : 38, 🙏 : 36, ✨ : 34..."
      ]
     },
     "execution_count": 6,
     "metadata": {},
     "output_type": "execute_result"
    }
   ],
   "source": [
    "totalHashtags, totalUsuarios, totalURls, totalEmojis = Counter(listaHashtags), Counter(listaUsuarios), Counter(listaURLS), Counter(listaEmojis)\n",
    "topHashtags, topUsuarios, topURLs, topEmojis = totalHashtags.most_common(10), totalUsuarios.most_common(10), totalURls.most_common(10), totalEmojis.most_common(10)\n",
    "\n",
    "resultados = []\n",
    "categorias = {\n",
    "    'Hashtags' : (totalHashtags, topHashtags),\n",
    "    'Usuarios' : (totalUsuarios, topUsuarios),\n",
    "    'URLs' : (totalURls, topURLs),\n",
    "    'Emojis' : (totalEmojis, topEmojis)\n",
    "}\n",
    "\n",
    "for categoria, (totales, lostop) in categorias.items():\n",
    "    top10 = ', '.join([f'{item} : {freq}' for item, freq in lostop])\n",
    "    aux = pd.DataFrame({\n",
    "        'String' : [categoria],\n",
    "        'Frecuecia' : [sum(totales.values())],\n",
    "        'Top 10' : [top10]\n",
    "    })\n",
    "    resultados.append(aux)\n",
    "\n",
    "df_chido = pd.concat(resultados, ignore_index=True)\n",
    "df_chido"
   ]
  }
 ],
 "metadata": {
  "kernelspec": {
   "display_name": "Python 3",
   "language": "python",
   "name": "python3"
  },
  "language_info": {
   "codemirror_mode": {
    "name": "ipython",
    "version": 3
   },
   "file_extension": ".py",
   "mimetype": "text/x-python",
   "name": "python",
   "nbconvert_exporter": "python",
   "pygments_lexer": "ipython3",
   "version": "3.12.3"
  }
 },
 "nbformat": 4,
 "nbformat_minor": 2
}
