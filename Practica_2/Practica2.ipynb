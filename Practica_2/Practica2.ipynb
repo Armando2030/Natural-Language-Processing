{
 "cells": [
  {
   "cell_type": "code",
   "execution_count": 2,
   "metadata": {},
   "outputs": [],
   "source": [
    "import feedparser\n",
    "from datetime import datetime\n",
    "import pandas as pd\n",
    "import os\n",
    "import spacy"
   ]
  },
  {
   "cell_type": "code",
   "execution_count": null,
   "metadata": {},
   "outputs": [],
   "source": [
    "def format_date(date):\n",
    "    try:\n",
    "        date_obj = datetime.strptime(date, \"%a, %d %b %Y %H:%M:%S %Z\")\n",
    "        return date_obj.strftime(\"%d/%m/%Y\")\n",
    "    except ValueError:\n",
    "        return None\n",
    "    \n",
    "la_jornada_urls = [\n",
    "    \"https://www.jornada.com.mx/rss/deportes.xml?v=1\",\n",
    "    \"https://www.jornada.com.mx/rss/economia.xml?v=1\",\n",
    "    \"https://www.jornada.com.mx/rss/ciencias.xml?v=1\",\n",
    "    \"https://www.jornada.com.mx/rss/cultura.xml?v=1\"\n",
    "]\n",
    "expansion_urls = [\n",
    "    \"https://www.expansion.mx/rss/economia\",\n",
    "    \"https://www.expansion.mx/rss/tecnologia\"\n",
    "]\n",
    "def extract_section(entry, source):\n",
    "    if 'La Jornada' in source:\n",
    "        return source.split(\":\")[-1].strip() if \":\" in source else \"Sin Sección\"\n",
    "    return entry.get('category', 'Sin Sección')\n",
    "\n",
    "\n",
    "def get_news(url):\n",
    "    feed = feedparser.parse(url)\n",
    "    fuente = feed.feed.get('title', 'Desconocido')\n",
    "    return [\n",
    "        {\n",
    "            'Source': fuente,\n",
    "            'Title': entry.get('title', 'Sin Título'),\n",
    "            'Content': entry.get('description', ''),\n",
    "            'Section': extract_section(entry, fuente),\n",
    "            'URL': entry.get('link', ''),\n",
    "            'Date': format_date(entry.get('published', ''))\n",
    "        }\n",
    "        for entry in feed.entries\n",
    "    ]\n",
    "\n",
    "csv_file = 'noticias2.csv'\n",
    "\n",
    "if os.path.exists(csv_file):\n",
    "    existing_df = pd.read_csv(csv_file)\n",
    "else:\n",
    "    existing_df = pd.DataFrame()\n",
    "\n",
    "all_news = []\n",
    "\n",
    "\n",
    "for url_list in [la_jornada_urls, expansion_urls]:\n",
    "    for url in url_list:\n",
    "        try:\n",
    "            all_news.extend(get_news(url))  \n",
    "        except feedparser.FeedParserError as e:\n",
    "            print(f\"No se pudo procesar {url}: {str(e)}\")\n",
    "\n",
    "\n",
    "new_df = pd.DataFrame(all_news)\n",
    "combined_df = pd.concat([existing_df, new_df], ignore_index=True)\n",
    "combined_df.drop_duplicates(subset=['URL'], keep='last', inplace=True)\n",
    "combined_df.to_csv(csv_file, index=False)\n",
    "print(f\"Se guardaron {len(new_df)} nuevas noticias.\")\n"
   ]
  },
  {
   "cell_type": "code",
   "execution_count": 4,
   "metadata": {},
   "outputs": [],
   "source": [
    "nlp = spacy.load('es_core_news_sm')\n",
    "df = pd.read_csv('noticias2.csv')\n",
    "\n",
    "def normalize_text(text):\n",
    "    doc = nlp(text)\n",
    "    normalized_tokens = [\n",
    "        token.lemma_.lower() for token in doc \n",
    "        if not token.is_stop and not token.is_punct and token.is_alpha and token.pos_ not in ['DET', 'CCONJ', 'SCONJ', 'PRON', 'ADP']\n",
    "    ]\n",
    "    return \" \".join(normalized_tokens)\n",
    "\n",
    "df['Title'] = df['Title'].apply(normalize_text)\n",
    "df['Content'] = df['Content'].apply(normalize_text)\n",
    "\n",
    "\n",
    "normalized_data_corpus = 'normalized_data_corpus2.csv'\n",
    "df.to_csv(normalized_data_corpus, index=False)\n"
   ]
  },
  {
   "cell_type": "code",
   "execution_count": null,
   "metadata": {},
   "outputs": [],
   "source": []
  }
 ],
 "metadata": {
  "kernelspec": {
   "display_name": "Python 3",
   "language": "python",
   "name": "python3"
  },
  "language_info": {
   "codemirror_mode": {
    "name": "ipython",
    "version": 3
   },
   "file_extension": ".py",
   "mimetype": "text/x-python",
   "name": "python",
   "nbconvert_exporter": "python",
   "pygments_lexer": "ipython3",
   "version": "3.12.3"
  }
 },
 "nbformat": 4,
 "nbformat_minor": 2
}
